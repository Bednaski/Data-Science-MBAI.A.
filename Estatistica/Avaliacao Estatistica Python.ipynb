{
 "cells": [
  {
   "cell_type": "markdown",
   "id": "8356a93c",
   "metadata": {},
   "source": [
    "# <font color=\"red\"> Resolução de exercícios de MBA em IA e Big Data</font>\n",
    "## <span style=\"color:red\">Disciplina de Estatística em Python</span>\n",
    "\n",
    "## Exercícios de Resumo de Dados, Probabilidade e Regressão \n",
    "\n",
    "*Adriano Viana Bednaski*<br>"
   ]
  },
  {
   "cell_type": "code",
   "execution_count": 1,
   "id": "a1d7e8c1",
   "metadata": {},
   "outputs": [],
   "source": [
    "#Importando a biblioteca Pandas para analisar o dataset\n",
    "import pandas as pd "
   ]
  },
  {
   "cell_type": "code",
   "execution_count": 3,
   "id": "9515c5bd",
   "metadata": {},
   "outputs": [],
   "source": [
    "#O dataset utilizado chama-se Felicidade que foi disponibilizado pela disciplina \n",
    "dfFelicidade = pd.read_csv(\"Felicidade.csv\")"
   ]
  },
  {
   "cell_type": "code",
   "execution_count": 5,
   "id": "95b87168",
   "metadata": {},
   "outputs": [
    {
     "name": "stdout",
     "output_type": "stream",
     "text": [
      "<class 'pandas.core.frame.DataFrame'>\n",
      "RangeIndex: 153 entries, 0 to 152\n",
      "Data columns (total 20 columns):\n",
      " #   Column                                      Non-Null Count  Dtype  \n",
      "---  ------                                      --------------  -----  \n",
      " 0   Country name                                153 non-null    object \n",
      " 1   Regional indicator                          153 non-null    object \n",
      " 2   Ladder score                                153 non-null    float64\n",
      " 3   Standard error of ladder score              153 non-null    float64\n",
      " 4   upperwhisker                                153 non-null    float64\n",
      " 5   lowerwhisker                                153 non-null    float64\n",
      " 6   Logged GDP per capita                       153 non-null    float64\n",
      " 7   Social support                              153 non-null    float64\n",
      " 8   Healthy life expectancy                     153 non-null    float64\n",
      " 9   Freedom to make life choices                153 non-null    float64\n",
      " 10  Generosity                                  153 non-null    float64\n",
      " 11  Perceptions of corruption                   153 non-null    float64\n",
      " 12  Ladder score in Dystopia                    153 non-null    float64\n",
      " 13  Explained by: Log GDP per capita            153 non-null    float64\n",
      " 14  Explained by: Social support                153 non-null    float64\n",
      " 15  Explained by: Healthy life expectancy       153 non-null    float64\n",
      " 16  Explained by: Freedom to make life choices  153 non-null    float64\n",
      " 17  Explained by: Generosity                    153 non-null    float64\n",
      " 18  Explained by: Perceptions of corruption     153 non-null    float64\n",
      " 19  Dystopia + residual                         153 non-null    float64\n",
      "dtypes: float64(18), object(2)\n",
      "memory usage: 24.0+ KB\n",
      "None ['Country name' 'Regional indicator' 'Ladder score'\n",
      " 'Standard error of ladder score' 'upperwhisker' 'lowerwhisker'\n",
      " 'Logged GDP per capita' 'Social support' 'Healthy life expectancy'\n",
      " 'Freedom to make life choices' 'Generosity' 'Perceptions of corruption'\n",
      " 'Ladder score in Dystopia' 'Explained by: Log GDP per capita'\n",
      " 'Explained by: Social support' 'Explained by: Healthy life expectancy'\n",
      " 'Explained by: Freedom to make life choices' 'Explained by: Generosity'\n",
      " 'Explained by: Perceptions of corruption' 'Dystopia + residual']\n"
     ]
    }
   ],
   "source": [
    "#Olhando como são as features e uma visão geral dos dados\n",
    "print(dfFelicidade.info(), dfFelicidade.columns.values) # imprime as informações dos dados e os nomes das features"
   ]
  },
  {
   "cell_type": "markdown",
   "id": "4357f9c9",
   "metadata": {},
   "source": [
    "<span style=\"color:blue\">  Q1. O conjunto de dados Felicidade.csv traz dados referentes a um escore de felicidade (Ladder scorel) em diferentes países do mundo em 2020. Os países estão agrupados em 8 regiões diferentes do mundo (Regional indicators). Calcule o escore médio de felicidade entre os países de cada região e selecione as regiões que tem menor média e maior média, respectivamente.<br>\n",
    "**A. Sub-Saharan Africa e North America and ANZ;**  mean = 4.38 and 7.17<br>\n",
    "B. Western Europe e Central and Eastern Europe;<br>\n",
    "C. North America and ANZ e Sub-Saharan Africa<br>\n",
    "D. South Asia e Sub-Saharan Africa.<span>"
   ]
  },
  {
   "cell_type": "code",
   "execution_count": 7,
   "id": "a91663ea",
   "metadata": {},
   "outputs": [
    {
     "data": {
      "text/plain": [
       "Regional indicator\n",
       "Sub-Saharan Africa                    4.383495\n",
       "South Asia                            4.475443\n",
       "Middle East and North Africa          5.227159\n",
       "Commonwealth of Independent States    5.358342\n",
       "Southeast Asia                        5.383367\n",
       "East Asia                             5.714850\n",
       "Central and Eastern Europe            5.883818\n",
       "Latin America and Caribbean           5.981786\n",
       "Western Europe                        6.899219\n",
       "North America and ANZ                 7.173525\n",
       "Name: Ladder score, dtype: float64"
      ]
     },
     "execution_count": 7,
     "metadata": {},
     "output_type": "execute_result"
    }
   ],
   "source": [
    "#Respondendo a questão 1\n",
    "dfMean = dfFelicidade.groupby(['Regional indicator'])['Ladder score'].mean() #Agrupa os dados e fornece as médias \n",
    "dfMean.sort_values() # organiza as ordens das médias de forma ascendente\n"
   ]
  },
  {
   "cell_type": "markdown",
   "id": "9f93fc55",
   "metadata": {},
   "source": [
    "<span style=\"color:blue\"> Q2. Foram calculadas 5 componentes principais, combinações lineares de algumas variáveis observadas, para estudar quais possivelmente explicam o escore de felicidades (Laddes score) da população dos países. As componentes foram nomeadas como:<br>\n",
    "1) Renda per capita (Logged GDP per capita),<br>\n",
    "2) Suporte social (Social support),<br>\n",
    "3) Expectativa de vida (Healthy life expectancy),<br>\n",
    "4) Liberdade (Freedom to make life choices) e<br>\n",
    "5) Generosidade (Generosity)<br>\n",
    "\n",
    " 'Explained by: Social support' \n",
    " 'Explained by: Healthy life expectancy'\n",
    " 'Explained by: Freedom to make life choices' \n",
    " 'Explained by: Generosity'\n",
    " 'Explained by: Perceptions of corruption'\n",
    " \n",
    " <span style=\"color:blue\">Das 5 componentes principais, as duas menos correlacionadas com o escore de felicidade são (escolha uma ou mais):<br>\n",
    "**A. Liberdade**<br>\n",
    "B. Renda per capita <br>\n",
    "C. Expectativa de vida<br>\n",
    "D. Suporte social<br>\n",
    "**E. Generosidade**<span>"
   ]
  },
  {
   "cell_type": "code",
   "execution_count": 8,
   "id": "fbc70418",
   "metadata": {},
   "outputs": [
    {
     "data": {
      "text/html": [
       "<div>\n",
       "<style scoped>\n",
       "    .dataframe tbody tr th:only-of-type {\n",
       "        vertical-align: middle;\n",
       "    }\n",
       "\n",
       "    .dataframe tbody tr th {\n",
       "        vertical-align: top;\n",
       "    }\n",
       "\n",
       "    .dataframe thead th {\n",
       "        text-align: right;\n",
       "    }\n",
       "</style>\n",
       "<table border=\"1\" class=\"dataframe\">\n",
       "  <thead>\n",
       "    <tr style=\"text-align: right;\">\n",
       "      <th></th>\n",
       "      <th>Ladder score</th>\n",
       "      <th>Social support</th>\n",
       "      <th>Healthy life expectancy</th>\n",
       "      <th>Freedom to make life choices</th>\n",
       "      <th>Generosity</th>\n",
       "      <th>Logged GDP per capita</th>\n",
       "    </tr>\n",
       "  </thead>\n",
       "  <tbody>\n",
       "    <tr>\n",
       "      <th>Ladder score</th>\n",
       "      <td>1.000000</td>\n",
       "      <td>0.765001</td>\n",
       "      <td>0.770316</td>\n",
       "      <td>0.590597</td>\n",
       "      <td>0.069043</td>\n",
       "      <td>0.775374</td>\n",
       "    </tr>\n",
       "    <tr>\n",
       "      <th>Social support</th>\n",
       "      <td>0.765001</td>\n",
       "      <td>1.000000</td>\n",
       "      <td>0.742744</td>\n",
       "      <td>0.478863</td>\n",
       "      <td>-0.056780</td>\n",
       "      <td>0.781814</td>\n",
       "    </tr>\n",
       "    <tr>\n",
       "      <th>Healthy life expectancy</th>\n",
       "      <td>0.770316</td>\n",
       "      <td>0.742744</td>\n",
       "      <td>1.000000</td>\n",
       "      <td>0.448846</td>\n",
       "      <td>-0.071852</td>\n",
       "      <td>0.848469</td>\n",
       "    </tr>\n",
       "    <tr>\n",
       "      <th>Freedom to make life choices</th>\n",
       "      <td>0.590597</td>\n",
       "      <td>0.478863</td>\n",
       "      <td>0.448846</td>\n",
       "      <td>1.000000</td>\n",
       "      <td>0.253721</td>\n",
       "      <td>0.419019</td>\n",
       "    </tr>\n",
       "    <tr>\n",
       "      <th>Generosity</th>\n",
       "      <td>0.069043</td>\n",
       "      <td>-0.056780</td>\n",
       "      <td>-0.071852</td>\n",
       "      <td>0.253721</td>\n",
       "      <td>1.000000</td>\n",
       "      <td>-0.118399</td>\n",
       "    </tr>\n",
       "    <tr>\n",
       "      <th>Logged GDP per capita</th>\n",
       "      <td>0.775374</td>\n",
       "      <td>0.781814</td>\n",
       "      <td>0.848469</td>\n",
       "      <td>0.419019</td>\n",
       "      <td>-0.118399</td>\n",
       "      <td>1.000000</td>\n",
       "    </tr>\n",
       "  </tbody>\n",
       "</table>\n",
       "</div>"
      ],
      "text/plain": [
       "                              Ladder score  Social support  \\\n",
       "Ladder score                      1.000000        0.765001   \n",
       "Social support                    0.765001        1.000000   \n",
       "Healthy life expectancy           0.770316        0.742744   \n",
       "Freedom to make life choices      0.590597        0.478863   \n",
       "Generosity                        0.069043       -0.056780   \n",
       "Logged GDP per capita             0.775374        0.781814   \n",
       "\n",
       "                              Healthy life expectancy  \\\n",
       "Ladder score                                 0.770316   \n",
       "Social support                               0.742744   \n",
       "Healthy life expectancy                      1.000000   \n",
       "Freedom to make life choices                 0.448846   \n",
       "Generosity                                  -0.071852   \n",
       "Logged GDP per capita                        0.848469   \n",
       "\n",
       "                              Freedom to make life choices  Generosity  \\\n",
       "Ladder score                                      0.590597    0.069043   \n",
       "Social support                                    0.478863   -0.056780   \n",
       "Healthy life expectancy                           0.448846   -0.071852   \n",
       "Freedom to make life choices                      1.000000    0.253721   \n",
       "Generosity                                        0.253721    1.000000   \n",
       "Logged GDP per capita                             0.419019   -0.118399   \n",
       "\n",
       "                              Logged GDP per capita  \n",
       "Ladder score                               0.775374  \n",
       "Social support                             0.781814  \n",
       "Healthy life expectancy                    0.848469  \n",
       "Freedom to make life choices               0.419019  \n",
       "Generosity                                -0.118399  \n",
       "Logged GDP per capita                      1.000000  "
      ]
     },
     "execution_count": 8,
     "metadata": {},
     "output_type": "execute_result"
    }
   ],
   "source": [
    "#Respondendo a questão 2\n",
    "dfFelizDimen = dfFelicidade[['Ladder score', 'Social support', 'Healthy life expectancy', 'Freedom to make life choices',\n",
    "            'Generosity', 'Logged GDP per capita']] # Seleciona apenas os dados de dimensão e escore do dataset Felicidade\n",
    "dfFelizDimen.corr() # calcula as correlações entre as features"
   ]
  },
  {
   "cell_type": "markdown",
   "id": "4dd167d7",
   "metadata": {},
   "source": [
    "<span style=\"color:blue\"> Q3. Um estudo para verificar quais as componentes mais associadas ao escore de felicidade obteve um modelo final de regressão linear múltiplo com as seguintes variáveis explicativas: Renda per capita, Suporte social, Expectativa de vida e Liberdade (modelo sem interação). Analisando os resultados desse modelo, responda se as afirmações a seguir são Verdadeiras ou Falsas.<br>    \n",
    "(**V**) O modelo explica quase 74% da variabilidade total do escore de felicidade.<br> \n",
    "(**F**) As variáveis renda e expectativa de vida são negativamente associadas ao escore de felicidade.<br> \n",
    "(**V**) A análise de resíduos identifica uma tendência na distribuição dos resíduos em função dos preditores.</span>\n",
    "<span style='color:red'>**P<br></span>\n",
    "<span style='color:blue'>(*V*)Osresíduos não apresentam um desvio importante da distribuição normal.</span>\n"
   ]
  },
  {
   "cell_type": "code",
   "execution_count": 9,
   "id": "837a0c17",
   "metadata": {},
   "outputs": [
    {
     "name": "stderr",
     "output_type": "stream",
     "text": [
      "/opt/conda/lib/python3.9/site-packages/pandas/core/frame.py:5039: SettingWithCopyWarning: \n",
      "A value is trying to be set on a copy of a slice from a DataFrame\n",
      "\n",
      "See the caveats in the documentation: https://pandas.pydata.org/pandas-docs/stable/user_guide/indexing.html#returning-a-view-versus-a-copy\n",
      "  return super().rename(\n"
     ]
    }
   ],
   "source": [
    "#Renomeando as features do dataset com as dimensões para diminuir os nomes\n",
    "dfFelizDimen.rename(columns = {'Social support': 'SS','Healthy life expectancy': 'H', 'Freedom to make life choices': 'F', 'Generosity': 'G', 'Logged GDP per capita': 'GDP','Ladder score': 'score' }, inplace = True)\n"
   ]
  },
  {
   "cell_type": "code",
   "execution_count": 11,
   "id": "28fbed09",
   "metadata": {},
   "outputs": [],
   "source": [
    "#x.drop(x.tail(1).index,inplace=True)\n",
    "#dfFelizDimen.isna() #Vê se tem algum valor faltante"
   ]
  },
  {
   "cell_type": "code",
   "execution_count": 13,
   "id": "9afdacc5",
   "metadata": {},
   "outputs": [
    {
     "data": {
      "text/html": [
       "<table class=\"simpletable\">\n",
       "<caption>OLS Regression Results</caption>\n",
       "<tr>\n",
       "  <th>Dep. Variable:</th>          <td>score</td>      <th>  R-squared:         </th> <td>   0.736</td>\n",
       "</tr>\n",
       "<tr>\n",
       "  <th>Model:</th>                   <td>OLS</td>       <th>  Adj. R-squared:    </th> <td>   0.729</td>\n",
       "</tr>\n",
       "<tr>\n",
       "  <th>Method:</th>             <td>Least Squares</td>  <th>  F-statistic:       </th> <td>   103.1</td>\n",
       "</tr>\n",
       "<tr>\n",
       "  <th>Date:</th>             <td>Sun, 28 Nov 2021</td> <th>  Prob (F-statistic):</th> <td>9.00e-42</td>\n",
       "</tr>\n",
       "<tr>\n",
       "  <th>Time:</th>                 <td>10:36:48</td>     <th>  Log-Likelihood:    </th> <td> -131.02</td>\n",
       "</tr>\n",
       "<tr>\n",
       "  <th>No. Observations:</th>      <td>   153</td>      <th>  AIC:               </th> <td>   272.0</td>\n",
       "</tr>\n",
       "<tr>\n",
       "  <th>Df Residuals:</th>          <td>   148</td>      <th>  BIC:               </th> <td>   287.2</td>\n",
       "</tr>\n",
       "<tr>\n",
       "  <th>Df Model:</th>              <td>     4</td>      <th>                     </th>     <td> </td>   \n",
       "</tr>\n",
       "<tr>\n",
       "  <th>Covariance Type:</th>      <td>nonrobust</td>    <th>                     </th>     <td> </td>   \n",
       "</tr>\n",
       "</table>\n",
       "<table class=\"simpletable\">\n",
       "<tr>\n",
       "    <td></td>       <th>coef</th>     <th>std err</th>      <th>t</th>      <th>P>|t|</th>  <th>[0.025</th>    <th>0.975]</th>  \n",
       "</tr>\n",
       "<tr>\n",
       "  <th>SS</th>    <td>    2.4049</td> <td>    0.657</td> <td>    3.660</td> <td> 0.000</td> <td>    1.106</td> <td>    3.703</td>\n",
       "</tr>\n",
       "<tr>\n",
       "  <th>H</th>     <td>    0.0386</td> <td>    0.013</td> <td>    2.949</td> <td> 0.004</td> <td>    0.013</td> <td>    0.064</td>\n",
       "</tr>\n",
       "<tr>\n",
       "  <th>F</th>     <td>    2.3266</td> <td>    0.460</td> <td>    5.054</td> <td> 0.000</td> <td>    1.417</td> <td>    3.236</td>\n",
       "</tr>\n",
       "<tr>\n",
       "  <th>GDP</th>   <td>    0.2398</td> <td>    0.082</td> <td>    2.933</td> <td> 0.004</td> <td>    0.078</td> <td>    0.401</td>\n",
       "</tr>\n",
       "<tr>\n",
       "  <th>const</th> <td>   -3.0104</td> <td>    0.454</td> <td>   -6.631</td> <td> 0.000</td> <td>   -3.908</td> <td>   -2.113</td>\n",
       "</tr>\n",
       "</table>\n",
       "<table class=\"simpletable\">\n",
       "<tr>\n",
       "  <th>Omnibus:</th>       <td> 5.121</td> <th>  Durbin-Watson:     </th> <td>   1.388</td>\n",
       "</tr>\n",
       "<tr>\n",
       "  <th>Prob(Omnibus):</th> <td> 0.077</td> <th>  Jarque-Bera (JB):  </th> <td>   4.738</td>\n",
       "</tr>\n",
       "<tr>\n",
       "  <th>Skew:</th>          <td>-0.421</td> <th>  Prob(JB):          </th> <td>  0.0936</td>\n",
       "</tr>\n",
       "<tr>\n",
       "  <th>Kurtosis:</th>      <td> 3.189</td> <th>  Cond. No.          </th> <td>    950.</td>\n",
       "</tr>\n",
       "</table><br/><br/>Notes:<br/>[1] Standard Errors assume that the covariance matrix of the errors is correctly specified."
      ],
      "text/plain": [
       "<class 'statsmodels.iolib.summary.Summary'>\n",
       "\"\"\"\n",
       "                            OLS Regression Results                            \n",
       "==============================================================================\n",
       "Dep. Variable:                  score   R-squared:                       0.736\n",
       "Model:                            OLS   Adj. R-squared:                  0.729\n",
       "Method:                 Least Squares   F-statistic:                     103.1\n",
       "Date:                Sun, 28 Nov 2021   Prob (F-statistic):           9.00e-42\n",
       "Time:                        10:36:48   Log-Likelihood:                -131.02\n",
       "No. Observations:                 153   AIC:                             272.0\n",
       "Df Residuals:                     148   BIC:                             287.2\n",
       "Df Model:                           4                                         \n",
       "Covariance Type:            nonrobust                                         \n",
       "==============================================================================\n",
       "                 coef    std err          t      P>|t|      [0.025      0.975]\n",
       "------------------------------------------------------------------------------\n",
       "SS             2.4049      0.657      3.660      0.000       1.106       3.703\n",
       "H              0.0386      0.013      2.949      0.004       0.013       0.064\n",
       "F              2.3266      0.460      5.054      0.000       1.417       3.236\n",
       "GDP            0.2398      0.082      2.933      0.004       0.078       0.401\n",
       "const         -3.0104      0.454     -6.631      0.000      -3.908      -2.113\n",
       "==============================================================================\n",
       "Omnibus:                        5.121   Durbin-Watson:                   1.388\n",
       "Prob(Omnibus):                  0.077   Jarque-Bera (JB):                4.738\n",
       "Skew:                          -0.421   Prob(JB):                       0.0936\n",
       "Kurtosis:                       3.189   Cond. No.                         950.\n",
       "==============================================================================\n",
       "\n",
       "Notes:\n",
       "[1] Standard Errors assume that the covariance matrix of the errors is correctly specified.\n",
       "\"\"\""
      ]
     },
     "execution_count": 13,
     "metadata": {},
     "output_type": "execute_result"
    }
   ],
   "source": [
    "# Fazendo a Regressão linear multipla usando a bibioteca stasmodels\n",
    "import statsmodels.api as sm #importa a biblioteca\n",
    "Fx = dfFelizDimen['score'] # separa o dataset para Fx (ou Y)  \n",
    "x = dfFelizDimen[['SS','H','F','GDP']] #separa o dataset em x (preditoras)\n",
    "x = sm.add_constant(x,prepend = False) # adiciona uma feature com constante no modelo (Interpto) #poderia ser esse comando tb: spector_data.exog = sm.add_constant(spector_data.exog, prepend=False)\n",
    "model2 = sm.OLS(Fx,x) #cria o modelo\n",
    "Reg2 = model2.fit() # ajusta a resgressão aos dados \n",
    "Reg2.summary() # para ter acesso a tudo que pode ser apresentado dir(Reg2)"
   ]
  },
  {
   "cell_type": "code",
   "execution_count": 14,
   "id": "54ef0978",
   "metadata": {},
   "outputs": [
    {
     "name": "stdout",
     "output_type": "stream",
     "text": [
      "                            OLS Regression Results                            \n",
      "==============================================================================\n",
      "Dep. Variable:                  score   R-squared:                       0.736\n",
      "Model:                            OLS   Adj. R-squared:                  0.729\n",
      "Method:                 Least Squares   F-statistic:                     103.1\n",
      "Date:                Sun, 28 Nov 2021   Prob (F-statistic):           9.00e-42\n",
      "Time:                        10:39:02   Log-Likelihood:                -131.02\n",
      "No. Observations:                 153   AIC:                             272.0\n",
      "Df Residuals:                     148   BIC:                             287.2\n",
      "Df Model:                           4                                         \n",
      "Covariance Type:            nonrobust                                         \n",
      "==============================================================================\n",
      "                 coef    std err          t      P>|t|      [0.025      0.975]\n",
      "------------------------------------------------------------------------------\n",
      "Intercept     -3.0104      0.454     -6.631      0.000      -3.908      -2.113\n",
      "SS             2.4049      0.657      3.660      0.000       1.106       3.703\n",
      "H              0.0386      0.013      2.949      0.004       0.013       0.064\n",
      "F              2.3266      0.460      5.054      0.000       1.417       3.236\n",
      "GDP            0.2398      0.082      2.933      0.004       0.078       0.401\n",
      "==============================================================================\n",
      "Omnibus:                        5.121   Durbin-Watson:                   1.388\n",
      "Prob(Omnibus):                  0.077   Jarque-Bera (JB):                4.738\n",
      "Skew:                          -0.421   Prob(JB):                       0.0936\n",
      "Kurtosis:                       3.189   Cond. No.                         950.\n",
      "==============================================================================\n",
      "\n",
      "Notes:\n",
      "[1] Standard Errors assume that the covariance matrix of the errors is correctly specified.\n"
     ]
    }
   ],
   "source": [
    "# Responde a questão 3 com outra forma mas agora escrevendo o modelo ao invés de serarar em dataset Fx e x\n",
    "from statsmodels.formula.api import ols #importa o modelo Ordinary Least Square\n",
    "\n",
    "#Ajusta o modelo de regressão linear múltipla com formula ols\n",
    "mod = ols('score ~ SS + H + F + GDP',data=dfFelizDimen)\n",
    "res = mod.fit()\n",
    "print(res.summary())"
   ]
  },
  {
   "cell_type": "code",
   "execution_count": 17,
   "id": "235ae30a",
   "metadata": {},
   "outputs": [
    {
     "name": "stderr",
     "output_type": "stream",
     "text": [
      "/tmp/ipykernel_31/3937616056.py:3: SettingWithCopyWarning: \n",
      "A value is trying to be set on a copy of a slice from a DataFrame.\n",
      "Try using .loc[row_indexer,col_indexer] = value instead\n",
      "\n",
      "See the caveats in the documentation: https://pandas.pydata.org/pandas-docs/stable/user_guide/indexing.html#returning-a-view-versus-a-copy\n",
      "  dfFelizReg['Resid'] = res.resid\n"
     ]
    },
    {
     "data": {
      "text/html": [
       "<div>\n",
       "<style scoped>\n",
       "    .dataframe tbody tr th:only-of-type {\n",
       "        vertical-align: middle;\n",
       "    }\n",
       "\n",
       "    .dataframe tbody tr th {\n",
       "        vertical-align: top;\n",
       "    }\n",
       "\n",
       "    .dataframe thead th {\n",
       "        text-align: right;\n",
       "    }\n",
       "</style>\n",
       "<table border=\"1\" class=\"dataframe\">\n",
       "  <thead>\n",
       "    <tr style=\"text-align: right;\">\n",
       "      <th></th>\n",
       "      <th>score</th>\n",
       "      <th>SS</th>\n",
       "      <th>H</th>\n",
       "      <th>F</th>\n",
       "      <th>GDP</th>\n",
       "      <th>Resid</th>\n",
       "    </tr>\n",
       "  </thead>\n",
       "  <tbody>\n",
       "    <tr>\n",
       "      <th>score</th>\n",
       "      <td>1.000000</td>\n",
       "      <td>7.650008e-01</td>\n",
       "      <td>7.703163e-01</td>\n",
       "      <td>5.905968e-01</td>\n",
       "      <td>7.753744e-01</td>\n",
       "      <td>5.139024e-01</td>\n",
       "    </tr>\n",
       "    <tr>\n",
       "      <th>SS</th>\n",
       "      <td>0.765001</td>\n",
       "      <td>1.000000e+00</td>\n",
       "      <td>7.427441e-01</td>\n",
       "      <td>4.788632e-01</td>\n",
       "      <td>7.818136e-01</td>\n",
       "      <td>3.662703e-15</td>\n",
       "    </tr>\n",
       "    <tr>\n",
       "      <th>H</th>\n",
       "      <td>0.770316</td>\n",
       "      <td>7.427441e-01</td>\n",
       "      <td>1.000000e+00</td>\n",
       "      <td>4.488462e-01</td>\n",
       "      <td>8.484686e-01</td>\n",
       "      <td>2.143656e-15</td>\n",
       "    </tr>\n",
       "    <tr>\n",
       "      <th>F</th>\n",
       "      <td>0.590597</td>\n",
       "      <td>4.788632e-01</td>\n",
       "      <td>4.488462e-01</td>\n",
       "      <td>1.000000e+00</td>\n",
       "      <td>4.190186e-01</td>\n",
       "      <td>1.990752e-15</td>\n",
       "    </tr>\n",
       "    <tr>\n",
       "      <th>GDP</th>\n",
       "      <td>0.775374</td>\n",
       "      <td>7.818136e-01</td>\n",
       "      <td>8.484686e-01</td>\n",
       "      <td>4.190186e-01</td>\n",
       "      <td>1.000000e+00</td>\n",
       "      <td>2.164136e-15</td>\n",
       "    </tr>\n",
       "    <tr>\n",
       "      <th>Resid</th>\n",
       "      <td>0.513902</td>\n",
       "      <td>3.662703e-15</td>\n",
       "      <td>2.143656e-15</td>\n",
       "      <td>1.990752e-15</td>\n",
       "      <td>2.164136e-15</td>\n",
       "      <td>1.000000e+00</td>\n",
       "    </tr>\n",
       "  </tbody>\n",
       "</table>\n",
       "</div>"
      ],
      "text/plain": [
       "          score            SS             H             F           GDP  \\\n",
       "score  1.000000  7.650008e-01  7.703163e-01  5.905968e-01  7.753744e-01   \n",
       "SS     0.765001  1.000000e+00  7.427441e-01  4.788632e-01  7.818136e-01   \n",
       "H      0.770316  7.427441e-01  1.000000e+00  4.488462e-01  8.484686e-01   \n",
       "F      0.590597  4.788632e-01  4.488462e-01  1.000000e+00  4.190186e-01   \n",
       "GDP    0.775374  7.818136e-01  8.484686e-01  4.190186e-01  1.000000e+00   \n",
       "Resid  0.513902  3.662703e-15  2.143656e-15  1.990752e-15  2.164136e-15   \n",
       "\n",
       "              Resid  \n",
       "score  5.139024e-01  \n",
       "SS     3.662703e-15  \n",
       "H      2.143656e-15  \n",
       "F      1.990752e-15  \n",
       "GDP    2.164136e-15  \n",
       "Resid  1.000000e+00  "
      ]
     },
     "execution_count": 17,
     "metadata": {},
     "output_type": "execute_result"
    }
   ],
   "source": [
    "#analisando se existe relação entre Resíduos da Regressão e as preditoras por meio de correlação \n",
    "dfFelizReg = dfFelizDimen\n",
    "dfFelizReg['Resid'] = res.resid\n",
    "dfFelizReg.corr()\n",
    "#pela correlação não se percebe relacão linear de Person entre os preditores e os resíduos"
   ]
  },
  {
   "cell_type": "code",
   "execution_count": 18,
   "id": "f7fe67be",
   "metadata": {},
   "outputs": [
    {
     "name": "stdout",
     "output_type": "stream",
     "text": [
      "ShapiroResult(statistic=0.9878631234169006, pvalue=0.20559336245059967)\n"
     ]
    }
   ],
   "source": [
    "#Analisando através de teste Shapiro-Wilks a normalidade dos resíduos \n",
    "from scipy import stats #importa a biblioteca com testes estatísticos\n",
    "# Teste de Shapiro-Wilks para normalidade\n",
    "print(stats.shapiro(res.resid))\n",
    "\n",
    "#Pelo resultado não se pode afirmar que os resíduos se diferem estatísticamente de uma distribuição gaussina (normal)"
   ]
  },
  {
   "cell_type": "code",
   "execution_count": 22,
   "id": "2acfeee9",
   "metadata": {},
   "outputs": [
    {
     "data": {
      "image/png": "[encoded data removed]",
      "text/plain": [
       "<Figure size 432x288 with 1 Axes>"
      ]
     },
     "metadata": {
      "needs_background": "light"
     },
     "output_type": "display_data"
    },
    {
     "data": {
      "text/plain": [
       "<Figure size 432x288 with 0 Axes>"
      ]
     },
     "metadata": {},
     "output_type": "display_data"
    }
   ],
   "source": [
    "#Analisando visualmente a normalidade dos resíduos \n",
    "import matplotlib.pyplot as plt #importa a bibliote para desenhar gráficos\n",
    "# Gráfico de probabilidade da Normal, para checar suposição de tal distribuição dos dados\n",
    "stats.probplot(res.resid, plot=plt) #desenha o gráfico\n",
    "plt.title('Probability Plot - Gráfico de probabilidade')# renomea o gráfico\n",
    "fig = plt.figure()\n",
    "\n",
    "#visualmente parece os dados terem uma tendência a diferencar da distribuição gaussina (normal) nos extremos. \n",
    "#Porém, pelo teste Shapiro-Wilks essa diferença não é suficente para se afirmar que os resídos não seguem uma distribuição gaussiana centrada no 0"
   ]
  },
  {
   "cell_type": "code",
   "execution_count": 42,
   "id": "53a56345",
   "metadata": {},
   "outputs": [
    {
     "data": {
      "image/png": "[encoded data removed]",
      "text/plain": [
       "<Figure size 432x288 with 1 Axes>"
      ]
     },
     "metadata": {
      "needs_background": "light"
     },
     "output_type": "display_data"
    }
   ],
   "source": [
    "#Analisando visualmente a normalidade dos resíduos através do histograma\n",
    "import numpy as np #importa a biblioteca Numpy para gerar o ajuste da Normal no histograma\n",
    "\n",
    "colunas = 30 #quantidade de coluna do histograma\n",
    "\n",
    "fig, ax = plt.subplots()\n",
    "n, colunas , patches = ax.hist(res.resid, colunas , density=True) #desenha o histograma dos resíduos\n",
    "\n",
    "\n",
    "\n",
    "# adiciona uma linha de ajuste da Normal no histograma\n",
    "mu = 0 #média teórica dos resíduos que deve ser 0\n",
    "sigma =1 #devio padrão teórico dos resíduos que seria 1\n",
    "y = ((1 / (np.sqrt(2 * np.pi) * sigma)) *\n",
    "     np.exp(-0.5 * (1 / sigma * (colunas - mu))**2))\n",
    "ax.plot(colunas, y, '--')\n",
    "ax.set_xlabel('Resíduos')\n",
    "ax.set_ylabel('Curva de Probabilidade')\n",
    "ax.set_title(r'Histogram of IQ: $\\mu=0$, $\\sigma=1$')\n",
    "\n",
    "plt.show()\n",
    "\n",
    "#VISUALMENTE OS RESÍDUOS NÃO ESTÃO BEM CENTRADOS NO 0, PARECENDO TER UMA ASSIMETRIA "
   ]
  },
  {
   "cell_type": "code",
   "execution_count": 45,
   "id": "bd76c35a",
   "metadata": {},
   "outputs": [
    {
     "data": {
      "image/png": "[encoded data removed]",
      "text/plain": [
       "<Figure size 432x288 with 3 Axes>"
      ]
     },
     "metadata": {
      "needs_background": "light"
     },
     "output_type": "display_data"
    }
   ],
   "source": [
    "# GRÁFICO DOS RESÍDUOS\n",
    "# valores preditos da esperança de Y - E(Y)\n",
    "ypred=res.fittedvalues\n",
    "\n",
    "# resíduo = observado-ajustado\n",
    "residuo = res.resid\n",
    "\n",
    "# objeto para a análise de pontos influentes\n",
    "infl = res.get_influence()\n",
    "\n",
    "# diagonal da matriz hat\n",
    "hii = infl.hat_matrix_diag\n",
    "\n",
    "# resíduo studentizado (internamente)\n",
    "res_stud = infl.resid_studentized_internal\n",
    "\n",
    "# resíduo studentizado com i-ésima observação deletada (externamente)\n",
    "res_stud_del = infl.resid_studentized_external\n",
    "\n",
    "####--------------------------------\n",
    "\n",
    "fig, (ax1, ax2, ax3) = plt.subplots(3)\n",
    "ax1.scatter(ypred, residuo)\n",
    "ax1.set_ylabel('$y-\\hat{y}$')\n",
    "ax1.set_title('Resíduos')\n",
    "ax1.hlines(0,xmin=min(ypred),xmax=max(ypred),color='gray')\n",
    "ax2.scatter(ypred, res_stud)\n",
    "ax2.set_ylabel('studentizado')\n",
    "ax2.hlines(0,xmin=min(ypred),xmax=max(ypred),color='gray')\n",
    "ax3.scatter(ypred, res_stud_del)\n",
    "ax3.set_ylabel('studentizado -(i)')\n",
    "ax3.hlines(0,xmin=min(ypred),xmax=max(ypred),color='gray')\n",
    "ax3.set_xlabel('$\\hat{Y}$')\n",
    "\n",
    "for ax in fig.get_axes():\n",
    "    ax.label_outer()\n",
    "    \n",
    "    \n",
    "#PARECE HAVER PONTOS EXTREMOS DOS RESÍDUOS OBSERVANDO O RESÍDUO STUDENTIZADO, POR TER VALORES ACIMA DE 2"
   ]
  },
  {
   "cell_type": "markdown",
   "id": "de14406e",
   "metadata": {},
   "source": [
    "<span style=\"color:blue\"> Q4. No dia 15 de abril de 1912, o Titanic afundou após colidir um iceberg em sua viagem inaugural (um breve resumo pode ser encontrado em Link Wikipedia). Com os dados de uma amostra dos passageiros do Titanic, apresentados no arquivo de dados titanic.csv. Pode-se pensar em vários testes de hipóteses para fazer uma análise comparativa da tarifa paga pela passagem entre os sobreviventes e não sobreviventes. Quatro deles estão listados abaixo. Quais são os níveis descritivos (p-valores) obtidos a partir de cada um deles? <br>\n",
    "A. Teste t de Student para variâncias diferentes **Ttest_indResult(statistic=6.809905589504408, pvalue=3.233336282255795e-11)** <br>\n",
    "B. Teste de Mann-Whitney **MannwhitneyuResult(statistic=128812.0, pvalue=8.614270910587372e-22)** ESSE VALOR NAO BATEU<br>\n",
    "C. Teste de Levene para comparação de variâncias **LeveneResult(statistic=44.42127908056298, pvalue=4.652781213477435e-11)** <br>\n",
    "D. Na busca por outros fatores potencialmente associados com sobreviver ou não ao\n",
    "naufrágio, o teste Qui-quadrado para comparação das distribuições de gênero foi\n",
    "realizado, resultando em um nível descritivo de **estatistica X2: 258.3912607678978; p-valor: 3.847574039733745e-58** <br>\n",
    "E. Determine a razão entre as tarifas médias pagas pelos não sobreviventes em relação\n",
    "aos sobreviventes é igual a **0.45889858432814984**\n"
   ]
  },
  {
   "cell_type": "code",
   "execution_count": 46,
   "id": "b28d9bad",
   "metadata": {},
   "outputs": [
    {
     "name": "stdout",
     "output_type": "stream",
     "text": [
      "<class 'pandas.core.frame.DataFrame'>\n",
      "RangeIndex: 887 entries, 0 to 886\n",
      "Data columns (total 8 columns):\n",
      " #   Column                   Non-Null Count  Dtype  \n",
      "---  ------                   --------------  -----  \n",
      " 0   Survived                 887 non-null    int64  \n",
      " 1   Pclass                   887 non-null    int64  \n",
      " 2   Name                     887 non-null    object \n",
      " 3   Sex                      887 non-null    object \n",
      " 4   Age                      887 non-null    float64\n",
      " 5   Siblings/Spouses Aboard  887 non-null    int64  \n",
      " 6   Parents/Children Aboard  887 non-null    int64  \n",
      " 7   Fare                     887 non-null    float64\n",
      "dtypes: float64(2), int64(4), object(2)\n",
      "memory usage: 55.6+ KB\n",
      "None ['Survived' 'Pclass' 'Name' 'Sex' 'Age' 'Siblings/Spouses Aboard'\n",
      " 'Parents/Children Aboard' 'Fare']\n"
     ]
    }
   ],
   "source": [
    "#Respondendo a questão 4\n",
    "dfTitanic =  pd.read_csv(\"titanic.csv\") #Como já foi importado o Pandas eu não preciso importar novamente; \n",
    "print(dfTitanic.info(), dfTitanic.columns.values) #olhando o dataset"
   ]
  },
  {
   "cell_type": "code",
   "execution_count": 47,
   "id": "e2f6ccbd",
   "metadata": {},
   "outputs": [],
   "source": [
    "# testes estatísticos com a bibioteca spicy\n",
    "from scipy import stats\n",
    "import numpy as np "
   ]
  },
  {
   "cell_type": "code",
   "execution_count": 50,
   "id": "5709515f",
   "metadata": {},
   "outputs": [],
   "source": [
    "#separa os dados dos sobreviventes (survived) e mortos (died) e seleciona os valores das tarifas\n",
    "survived = dfTitanic.loc[dfTitanic.Survived == 1,'Fare']\n",
    "died = dfTitanic.loc[dfTitanic.Survived ==0, 'Fare']"
   ]
  },
  {
   "cell_type": "code",
   "execution_count": 51,
   "id": "64f363d0",
   "metadata": {},
   "outputs": [
    {
     "name": "stdout",
     "output_type": "stream",
     "text": [
      "média de ticket dos sobriventes: 48.40 ; média de ticket dos mortos: 22.209\n",
      "média de ticket dos sobriventes: 48.4 ; média de ticket dos mortos: 22.209\n"
     ]
    },
    {
     "data": {
      "text/plain": [
       "Ttest_indResult(statistic=6.809905589504408, pvalue=3.233336282255795e-11)"
      ]
     },
     "execution_count": 51,
     "metadata": {},
     "output_type": "execute_result"
    }
   ],
   "source": [
    "# teste t de Student (bicaudal) para média de duas populações Normais com variâncias diferente\n",
    "print('média de ticket dos sobriventes: %.2f ; média de ticket dos mortos: %.3f'%(survived.mean(),died.mean())) #Não consegui usar o .f para arredondar \n",
    "print(f'média de ticket dos sobriventes: {round(survived.mean(),2)} ; média de ticket dos mortos: {round(died.mean(),3)}')\n",
    "\n",
    "stats.ttest_ind(survived,died, equal_var = False) #teste t\n",
    "\n",
    "#PELOS RESULTADO DO TESTE HÁ DIFERENÇA ENTRE O VALOR PAGO PELOS TICKETS PARA OS SOBREVIVENTE E MORTOS NOS PASSAGEIROS DO TITANIC. \n",
    "#SENDO QUE PARA OS SOBREVIVENTES O VALOR PAGO FOI EM MÉDIA DE 48.4 E PARA OS MORTOS O VALOR MÉDIO FOI DE 22.20"
   ]
  },
  {
   "cell_type": "code",
   "execution_count": 60,
   "id": "0ca00ae2",
   "metadata": {},
   "outputs": [
    {
     "name": "stdout",
     "output_type": "stream",
     "text": [
      "mediana de ticket dos sobreviventes: 26.0; mediana de ticket dos mortos 10.5\n",
      "MannwhitneyuResult(statistic=128812.0, pvalue=4.307135455293686e-22)\n"
     ]
    }
   ],
   "source": [
    "# teste de mediana de  Mann-Whitney\n",
    "from statistics import median\n",
    "sobrev = np.array(survived)\n",
    "mortos = np.array(died)\n",
    "\n",
    "print(f'mediana de ticket dos sobreviventes: {median(sobrev)}; mediana de ticket dos mortos {median(mortos)}')\n",
    "      \n",
    "testM= stats.mannwhitneyu(sobrev, mortos, use_continuity=True, alternative= \"greater\")\n",
    "print(testM)\n",
    "\n",
    "#PELO TESTE A MEDIADA DOS TICKETS DE 26 DOS SOBREVIVENTES É SIGNIFICATIVAMENTE MAIOR QUE A DE 10.5 DOS MORTOS"
   ]
  },
  {
   "cell_type": "code",
   "execution_count": 174,
   "id": "1e0a5386",
   "metadata": {},
   "outputs": [
    {
     "data": {
      "text/plain": [
       "LeveneResult(statistic=44.42127908056298, pvalue=4.652781213477435e-11)"
      ]
     },
     "execution_count": 174,
     "metadata": {},
     "output_type": "execute_result"
    }
   ],
   "source": [
    "#teste de Levene para igualdade de variâncias\n",
    "stats.levene(survived,died)"
   ]
  },
  {
   "cell_type": "code",
   "execution_count": 199,
   "id": "5bd54c05",
   "metadata": {},
   "outputs": [
    {
     "name": "stdout",
     "output_type": "stream",
     "text": [
      "estatistica X2: 258.3912607678978; p-valor: 3.847574039733745e-58\n"
     ]
    }
   ],
   "source": [
    "# fazendo o teste qui-quadrado para a quantidade de sobreviventes e mortos em relação ao sexo\n",
    "from scipy.stats import chi2_contingency\n",
    "# teste quiquadrado para independência/hamogeneidade de distribuição\n",
    "X2 = pd.crosstab(dfTitanic.Survived, dfTitanic.Sex)\n",
    "chi2, p, dof, expected = chi2_contingency(X2)\n",
    "print(f'estatistica X2: {chi2}; p-valor: {p}')\n",
    "\n",
    "#DE ACORDO COM O TESTE HÁ DEPENDÊNCIA ENTRE O SEXO DA PESSOA E A PROBABILIDADE E SOBREVIVÊNCIA"
   ]
  },
  {
   "cell_type": "code",
   "execution_count": 525,
   "id": "62d46ab2",
   "metadata": {},
   "outputs": [
    {
     "data": {
      "text/plain": [
       "0.46"
      ]
     },
     "execution_count": 525,
     "metadata": {},
     "output_type": "execute_result"
    }
   ],
   "source": [
    "#relação da média dos ticketes dos preços pagos pelos mortos em relação ao sobreviventes\n",
    "round(died.mean()/survived.mean(), 2)\n",
    "\n",
    "# ISSO MOSTRA QUE O PREÇO DOS TICKETS DOS MORTOS VALEM 46% DO DOS SOBREVIVENTES"
   ]
  },
  {
   "cell_type": "markdown",
   "id": "f78510ac",
   "metadata": {},
   "source": [
    "<span style=\"color:blue\"> Q5. Para estudar conjuntamente os fatores associados à sobrevivência no naufrágio, um modelo de regressão logística foi ajustado considerando as seguintes covariáveis: classe do bilhete (Pclass), idade (Age), parentes presentes no navio (SSAboard) e gênero (C(Sex)). Quais são os valores dos coeficientes associados a cada uma das covariáveis? <br>\n",
    "(Considere 3 casas decimais) <br>\n",
    "A. Classe do bilhete<br>\n",
    "B. Idade <br>\n",
    "C. Parentes presentes no navio <br> \n",
    "D. Gênero"
   ]
  },
  {
   "cell_type": "code",
   "execution_count": 71,
   "id": "a68fc319",
   "metadata": {},
   "outputs": [],
   "source": [
    "#Respondendo a questão 5\n",
    "import pandas as pd \n",
    "import numpy as np\n",
    "#import statsmodels.api as sm #parece ser igual a import statsmodels.discrete.discrete_model as sm\n",
    "import statsmodels.discrete.discrete_model as sm #importando a o modelo de regressão logística do statsmodel"
   ]
  },
  {
   "cell_type": "code",
   "execution_count": 124,
   "id": "4cc5518e",
   "metadata": {},
   "outputs": [],
   "source": [
    "#Fazendo a regressão logística para a questão 5\n",
    "FxTitanic = dfTitanic['Survived'] #separa o dataset para o Fx\n",
    "xTitanic = dfTitanic[['Pclass', 'Age', 'Siblings/Spouses Aboard', 'Sex']] #separa o dataset com as preditoras"
   ]
  },
  {
   "cell_type": "code",
   "execution_count": 125,
   "id": "b3b7d320",
   "metadata": {},
   "outputs": [
    {
     "name": "stdout",
     "output_type": "stream",
     "text": [
      "Optimization terminated successfully.\n",
      "         Current function value: 0.441305\n",
      "         Iterations 6\n"
     ]
    },
    {
     "data": {
      "text/html": [
       "<table class=\"simpletable\">\n",
       "<caption>Logit Regression Results</caption>\n",
       "<tr>\n",
       "  <th>Dep. Variable:</th>       <td>Survived</td>     <th>  No. Observations:  </th>  <td>   887</td>  \n",
       "</tr>\n",
       "<tr>\n",
       "  <th>Model:</th>                 <td>Logit</td>      <th>  Df Residuals:      </th>  <td>   882</td>  \n",
       "</tr>\n",
       "<tr>\n",
       "  <th>Method:</th>                 <td>MLE</td>       <th>  Df Model:          </th>  <td>     4</td>  \n",
       "</tr>\n",
       "<tr>\n",
       "  <th>Date:</th>            <td>Sun, 28 Nov 2021</td> <th>  Pseudo R-squ.:     </th>  <td>0.3381</td>  \n",
       "</tr>\n",
       "<tr>\n",
       "  <th>Time:</th>                <td>12:54:13</td>     <th>  Log-Likelihood:    </th> <td> -391.44</td> \n",
       "</tr>\n",
       "<tr>\n",
       "  <th>converged:</th>             <td>True</td>       <th>  LL-Null:           </th> <td> -591.38</td> \n",
       "</tr>\n",
       "<tr>\n",
       "  <th>Covariance Type:</th>     <td>nonrobust</td>    <th>  LLR p-value:       </th> <td>2.932e-85</td>\n",
       "</tr>\n",
       "</table>\n",
       "<table class=\"simpletable\">\n",
       "<tr>\n",
       "             <td></td>                <th>coef</th>     <th>std err</th>      <th>z</th>      <th>P>|z|</th>  <th>[0.025</th>    <th>0.975]</th>  \n",
       "</tr>\n",
       "<tr>\n",
       "  <th>Pclass</th>                  <td>   -1.2651</td> <td>    0.127</td> <td>   -9.960</td> <td> 0.000</td> <td>   -1.514</td> <td>   -1.016</td>\n",
       "</tr>\n",
       "<tr>\n",
       "  <th>Age</th>                     <td>   -0.0437</td> <td>    0.008</td> <td>   -5.679</td> <td> 0.000</td> <td>   -0.059</td> <td>   -0.029</td>\n",
       "</tr>\n",
       "<tr>\n",
       "  <th>Siblings/Spouses Aboard</th> <td>   -0.4078</td> <td>    0.105</td> <td>   -3.876</td> <td> 0.000</td> <td>   -0.614</td> <td>   -0.202</td>\n",
       "</tr>\n",
       "<tr>\n",
       "  <th>Sex_female</th>              <td>    5.5321</td> <td>    0.505</td> <td>   10.960</td> <td> 0.000</td> <td>    4.543</td> <td>    6.521</td>\n",
       "</tr>\n",
       "<tr>\n",
       "  <th>Sex_male</th>                <td>    2.7956</td> <td>    0.450</td> <td>    6.215</td> <td> 0.000</td> <td>    1.914</td> <td>    3.677</td>\n",
       "</tr>\n",
       "</table>"
      ],
      "text/plain": [
       "<class 'statsmodels.iolib.summary.Summary'>\n",
       "\"\"\"\n",
       "                           Logit Regression Results                           \n",
       "==============================================================================\n",
       "Dep. Variable:               Survived   No. Observations:                  887\n",
       "Model:                          Logit   Df Residuals:                      882\n",
       "Method:                           MLE   Df Model:                            4\n",
       "Date:                Sun, 28 Nov 2021   Pseudo R-squ.:                  0.3381\n",
       "Time:                        12:54:13   Log-Likelihood:                -391.44\n",
       "converged:                       True   LL-Null:                       -591.38\n",
       "Covariance Type:            nonrobust   LLR p-value:                 2.932e-85\n",
       "===========================================================================================\n",
       "                              coef    std err          z      P>|z|      [0.025      0.975]\n",
       "-------------------------------------------------------------------------------------------\n",
       "Pclass                     -1.2651      0.127     -9.960      0.000      -1.514      -1.016\n",
       "Age                        -0.0437      0.008     -5.679      0.000      -0.059      -0.029\n",
       "Siblings/Spouses Aboard    -0.4078      0.105     -3.876      0.000      -0.614      -0.202\n",
       "Sex_female                  5.5321      0.505     10.960      0.000       4.543       6.521\n",
       "Sex_male                    2.7956      0.450      6.215      0.000       1.914       3.677\n",
       "===========================================================================================\n",
       "\"\"\""
      ]
     },
     "execution_count": 125,
     "metadata": {},
     "output_type": "execute_result"
    }
   ],
   "source": [
    "xTitanic = pd.concat([xTitanic,pd.get_dummies(xTitanic['Sex'], prefix='Sex',drop_first=False)],axis=1)\n",
    "xTitanic.drop(['Sex'],axis=1, inplace=True) #Retira a coluna original com as variáveis nomiais\n",
    "modelLog = sm.Logit(FxTitanic,xTitanic) #,family=sm.families.Binomial()\n",
    "Reg3 = modelLog.fit()\n",
    "Reg3.summary()"
   ]
  },
  {
   "cell_type": "code",
   "execution_count": 121,
   "id": "78011ca9",
   "metadata": {},
   "outputs": [],
   "source": [
    "#TENTEI IMPLEMENTAR ESSA PARA VER SE O COEFICIENTE DO SEX MODIFICA O VALOR MAS NÃO ACONTECEU\n",
    "#Fazendo a regressão logística para a questão 5\n",
    "#FxTitanic = dfTitanic['Survived'] #separa o dataset para o Fx\n",
    "#xTitanic = dfTitanic[['Pclass', 'Age', 'Siblings/Spouses Aboard', 'Sex']]\n",
    "#xTitanic['Sex'] = xTitanic['Sex'].map({'female':0,'male':1})\n",
    "#modelLog = sm.Logit(FxTitanic,xTitanic)\n",
    "#Reg3 = modelLog.fit()\n",
    "#Reg3.summary()"
   ]
  },
  {
   "cell_type": "code",
   "execution_count": 126,
   "id": "7319a8d9",
   "metadata": {},
   "outputs": [
    {
     "data": {
      "text/plain": [
       "array([0.36869416])"
      ]
     },
     "execution_count": 126,
     "metadata": {},
     "output_type": "execute_result"
    }
   ],
   "source": [
    "dados =Reg3.predict([1,38,1,0,1])\n",
    "print(dados)"
   ]
  },
  {
   "cell_type": "markdown",
   "id": "8b0fc5fc",
   "metadata": {},
   "source": [
    "<span style=\"color:blue\">Q6. Considerando o modelo de regressão logística ajustado com as covariáveis classe do bilhete (Pclass), idade (Age), parentes presentes no navio (SSAboard) e gênero (C(Sex)). Responda se as afirmações a seguir são Verdadeiras ou Falsas. <br>\n",
    "(**F**) Quanto maior classe do bilhete, maior chance de sobreviver ao naufrágio.<br>\n",
    "(**V**) Quanto menor a idade, maior chance de sobreviver ao naufrágio.<br>\n",
    "(**F**) Quanto menos parentes presentes no navio, menor chance de sobreviver ao naufrágio.<br> \n",
    "(**F**) Todas as covariáveis influenciam positivamente à chance de sobreviver ao naufrágio.<br>"
   ]
  },
  {
   "cell_type": "markdown",
   "id": "2c11421b",
   "metadata": {},
   "source": [
    "**<font color=\"red\"> Respondendo a questão 6:<br>\n",
    "1: \"Falsa\" pois o coeficiente é negativo, isso indica uma relação inversa entre a feature e o valor da predição;<br>\n",
    "2: \"Verdadeira\" pois o coefieciente é negativo, isso indica que um valor mais alto na feature reduz o resultado de F(x) - y;<br>\n",
    "3: \"Falsa\" pois o coefeficiente é negativo<br>\n",
    "4: \"Falsa\" pois existe features que impactam negaticamente na predição </font>**"
   ]
  },
  {
   "cell_type": "markdown",
   "id": "117ed9da",
   "metadata": {},
   "source": [
    "<span style=\"color:blue\">Q7. Ao invés de usar a metodologia sofisticada da Teoria de Resposta ao Item, o conhecimento do aluno poderia ser representado pelo número de acertos na prova com 45 questões, para cada área. Essa variável aleatória “número de acertos no total de 45 questões” possivelmente segue qual das seguintes distribuições de probabilidade? <br> \n",
    "a) Bernoulli<br>\n",
    "**b) Binomial** <BR>\n",
    "c) Normal <br>\n",
    "d) Exponencial <br>\n",
    "e) Poisson"
   ]
  },
  {
   "cell_type": "markdown",
   "id": "6e7f2094",
   "metadata": {},
   "source": [
    "**<font color=\"red\"> Respondendo a questão 7:\n",
    "Um evento qualquer que tem apenas 2 possibilidades de respostas: Sucesso ou Fracasso. Trata-se de uma distribuição de Bernoulli. Nessa situação, acertar ou errar questão é um evento de Bernoulli, porém, ao combinar vários eventos de Bernoulli, tem-se uma distribuição Binomial.**"
   ]
  },
  {
   "cell_type": "markdown",
   "id": "a7a8c453",
   "metadata": {},
   "source": [
    "<span style=\"color:blue\">Q8. Na prova de 45 questões de uma das áreas,qual a probabilidade de um aluno que não sabe nada (ou seja, escolhe aleatoriamente uma das 5 alternativas de respostas de cada questão) acertar mais da metade da prova? Marque todas as opções corretas (pode ser mais de uma). <br>\n",
    "a) 0,223 <br>\n",
    "**b) 𝑃(𝑌 > 22,5), sendo Y, o número de acertos na prova, uma variável aleatória com\n",
    "distribuição Normal de média 9 e desvo padrão 2,68, aproximadamente.**<br>\n",
    "**c) 3,28.10−6 = 0,00000328** <br>\n",
    "d) 0,223 . 0,822 <br>\n",
    "e) 0,2 "
   ]
  },
  {
   "cell_type": "markdown",
   "id": "6a6eaea1",
   "metadata": {},
   "source": [
    "A aproximação da binomial(45, p = 0,2)  para a normal(m = 0,2*45,desv.padr = 0,2*0,8*45)"
   ]
  },
  {
   "cell_type": "code",
   "execution_count": 128,
   "id": "9abf7e61",
   "metadata": {},
   "outputs": [
    {
     "name": "stdout",
     "output_type": "stream",
     "text": [
      "A média esperada para a aproximação da distribuição normal: 9.0; com o desvio padrão: 2.68\n"
     ]
    }
   ],
   "source": [
    "#Respondendo a questão 8\n",
    "m = 0.2*45\n",
    "dp = (0.2*0.8*45)**0.5\n",
    "print(f'A média esperada para a aproximação da distribuição normal: {m}; com o desvio padrão: {round(dp, 2)}')"
   ]
  },
  {
   "cell_type": "code",
   "execution_count": 21,
   "id": "f310b360",
   "metadata": {},
   "outputs": [
    {
     "data": {
      "text/plain": [
       "0.00034533511434495635"
      ]
     },
     "execution_count": 21,
     "metadata": {},
     "output_type": "execute_result"
    }
   ],
   "source": [
    "#Respondendo a questão 8\n",
    "from scipy import special as sc\n",
    "n =45\n",
    "k = 22\n",
    "dif = 45 - 22\n",
    "#sc.factorial(5, exact=True)\n",
    "sc.comb(n, k, exact=True)*(0.2**(dif)) # resposta da letra C; pelo gabarito a conta esta cooreta\n",
    "\n",
    "#A CONTA DA DISTRIBUIÇÃO BINOMIAL, PORÉM O RESULTADO NÃO IRÁ  CHEGAR NO VALOR POIS A PROBABILIDADE NO PONTO JÁ \n",
    "#DEU MAIS ALTA QUE A RESPOSTA, SE FIZER A SOMA DOS MAIORES IRÁ AUMENTAR AINDA MAIS"
   ]
  },
  {
   "cell_type": "code",
   "execution_count": 131,
   "id": "67a9e7d7",
   "metadata": {},
   "outputs": [
    {
     "name": "stdout",
     "output_type": "stream",
     "text": [
      "0.9999992649161971\n",
      "3.2832071924504547e-06\n"
     ]
    }
   ],
   "source": [
    "#Respondendo a questão 8\n",
    "from scipy import stats# NAO CONSEGUI ENTENDER O RESULTADO \n",
    "rv = stats.binom(45, 0.2)\n",
    "#rv.pmf(9) #probabilidade no ponto\n",
    "print(rv.cdf(23)) # probabilidade acumulada\n",
    "print(1-rv.cdf(22)) # probabilidade acumulada complementar\n",
    "\n",
    "#A TERCEIRA OPÇÃO É VERDADEIRA"
   ]
  },
  {
   "cell_type": "markdown",
   "id": "a7474ec0",
   "metadata": {},
   "source": [
    "**<font color=\"red\">A letra \"d\" mostra a probabilidade de se acertar em uma única combinação possível, porém, existe combinação(n,k) dessa quantidade de formas que falta nessa resposta.\n",
    " A letra \"e\" mostra a probabilidade de ser acertar uma resposta em 1 questão, ou seja, um evento de Bernoulli.**"
   ]
  },
  {
   "cell_type": "markdown",
   "id": "09c59191",
   "metadata": {},
   "source": [
    "<span style=\"color:blue\"> Q9. Assinale cada afirmação abaixo como verdadeira (V) ou falsa (F) em relação a Inferência Bayesiana. <br>\n",
    "(**F**) A estimação de Máxima Verossimilhança pode ser considerada como um caso particular de inferência Bayesiana com informação a priori;<br>\n",
    "(**F**) Em inferência Bayesiana os resumos das informações contidas na distribuição a priori assumem a forma de esperanças de funções particulares dos parâmetros;<br>\n",
    "(**V**) Os métodos Cadeias de Markov de Monte Carlo (MCMC) nos permitem obter aproximadamente a distribuição posteriori desejada;<br>\n",
    "(**V**) Quantificar o conhecimento prévio é uma questão não resolvida na Inferência Bayesiana;\n",
    "    "
   ]
  },
  {
   "cell_type": "markdown",
   "id": "38ef752a",
   "metadata": {},
   "source": [
    " <span style=\"color:blue\">Q10.Assinale cada afirmação abaixo como verdadeira (V) ou falsa (F) em relação a Inferência Bayesiana. <br>\n",
    "(**F**) O problema geral de inferência Bayesiana consiste em calcular valores esperados da distribuição a priori;<br>\n",
    "(**F**) Uma a priori diferente de uma constante é considerada uma a priori difusa ou não informativa; <br>\n",
    "(**F**) Em situações complexas necessariamente a distribuição a posteriori adota uma distribuição conhecida; <br>\n",
    "(**V**) Melhorar a taxa de convergência do algoritmo na implementação de aprendizagem Bayesiana ainda não está resolvida."
   ]
  }
 ],
 "metadata": {
  "kernelspec": {
   "display_name": "Python 3 (ipykernel)",
   "language": "python",
   "name": "python3"
  },
  "language_info": {
   "codemirror_mode": {
    "name": "ipython",
    "version": 3
   },
   "file_extension": ".py",
   "mimetype": "text/x-python",
   "name": "python",
   "nbconvert_exporter": "python",
   "pygments_lexer": "ipython3",
   "version": "3.9.7"
  }
 },
 "nbformat": 4,
 "nbformat_minor": 5
}
